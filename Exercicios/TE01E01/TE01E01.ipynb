{
  "nbformat": 4,
  "nbformat_minor": 0,
  "metadata": {
    "colab": {
      "name": "TE01E01.ipynb",
      "provenance": [],
      "collapsed_sections": []
    },
    "kernelspec": {
      "name": "python3",
      "display_name": "Python 3"
    }
  },
  "cells": [
    {
      "cell_type": "markdown",
      "metadata": {
        "id": "UH3xIgjOopuq"
      },
      "source": [
        "# **TE01E01 - Temporada de Exercícios 01**\n",
        "## **Exercício de Hoje:** Medição do Reservatório de Água"
      ]
    },
    {
      "cell_type": "markdown",
      "metadata": {
        "id": "ZXleAueGD1MT"
      },
      "source": [
        "### **Enunciado**\n",
        "\n",
        "**CADB)** A água é indispensável em nossa vida, podemos utilizar esse recurso finito para os mais diversos fins. Utilizamos a água na indústria, na pecuária, nas casas e nas escolas. Para que uma escola possa funcionar perfeitamente a água é mais do que fundamental, ela é utilizada na cozinha, na limpeza, e o mais importante: para saciar a sede dos alunos e professores.\n",
        "\n",
        "Sabendo da importância da água para seu funcionamento, a Escola Estadual AdadosBrasil quer criar um sistema automatizado para saber quantos dias seu reservatório pode aguentar sem ser reabastecido, tendo em vista que está passando por um período de seca e racionamento. Sabe-se que o reservatório atual é cúbico e tem cerca de: 5 metros de altura, 4 metros de comprimento e 5 metros de largura.\n",
        "\n",
        "Na parede lateral do reservatório tem uma régua que mede o nível atual da água, que está marcando 2 metros. Como esse recurso é precioso para os 1200 alunos e 40 profissionais que atuam na instituição, no último mês a escola contratou um serviço de uma consultoria para investigar qual o consumo médio por pessoa por dia, no relatório da consultoria consta os seguintes valores:\n",
        "\n",
        "- Consumo por pessoa - 1,5 Litros\n",
        "- Limpeza por pessoa - 0,3 Litros\n",
        "- Cozinha por pessoa - 0,2 Litros\n",
        "\n",
        "\n",
        "Outra preocupação da escola é que uma lei municipal foi sancionada, essa lei proíbe escolas de funcionarem sem uma reserva de pelo menos 30 dias.\n",
        "\n",
        "Para ajudar a escola, crie um sistema que recebe como entrada:\n",
        "- A altura do tanque;\n",
        "- A largura do tanque;\n",
        "- O comprimento do tanque;\n",
        "- A quantidade atual de água no tanque;\n",
        "- A quantidade de pessoas na escola.\n",
        "\n",
        "E retorna como informação:\n",
        "- A capacidade do tanque em m³ e em Litros;\n",
        "- A quantidade atual de água em m³ e em Litros;\n",
        "- A preenchimento em % do tanque de água;\n",
        "- Consumo de água por dia;\n",
        "- Quantos dias a escola pode funcionar sem reabastecimento;\n",
        "- Se a escola está ou não dentro da lei.\n",
        "\n",
        "\n",
        "\n",
        "```\n",
        "Boa sorte WebAluno\n",
        "```\n",
        "\n"
      ]
    },
    {
      "cell_type": "code",
      "metadata": {
        "id": "TAfvIbDsF5a6"
      },
      "source": [
        "#Informações\r\n",
        "#Objetivo - Criar um sistema automatizado para saber quantos dias de agua tem;\r\n",
        "#Reservatorio tem - 5 x 4 x 5\r\n",
        "#Agua 2 x 4 x 5\r\n",
        "#Pessoas 1200 + 40\r\n",
        "#Consumo Pessoa - 1,5 + 0,3 + 0,2\r\n",
        "#Reserva de 30 dias"
      ],
      "execution_count": null,
      "outputs": []
    },
    {
      "cell_type": "code",
      "metadata": {
        "colab": {
          "base_uri": "https://localhost:8080/"
        },
        "id": "5CRJ4GKhkRzr",
        "outputId": "2c474afe-fe13-4681-d50a-f91b6d769de2"
      },
      "source": [
        "#Variáveis do usuário\r\n",
        "a_tanque = float(input('Qual é a altura do tanque em metros: '))\r\n",
        "l_tanque = float(input('Qual é a a largura do tanque em metros: '))\r\n",
        "c_tanque = float(input('QUal é o comprimento do tanque em metros: '))\r\n",
        "a_agua = float(input('Qual a altura da água em metros: '))\r\n",
        "pessoas = int(input('Qual a quantidade de pessoas na escola: '))\r\n",
        "\r\n",
        "#Criação de variáveis calculadas\r\n",
        "v_tanque_m3 = a_tanque * l_tanque * c_tanque\r\n",
        "v_tanque_l = v_tanque_m3 * 1000\r\n",
        "v_agua_m3 = a_agua * l_tanque * c_tanque\r\n",
        "v_agua_l = v_agua_m3 * 1000\r\n",
        "preenchimento = (v_agua_l / v_tanque_l) * 100\r\n",
        "consumo_dia = 2 * pessoas\r\n",
        "dias_restantes = int(v_agua_l / consumo_dia)\r\n",
        "\r\n",
        "if dias_restantes >= 30:\r\n",
        "  lei = 'está dentro da lei'\r\n",
        "else:\r\n",
        "  lei = 'não está dentro da lei'\r\n",
        "\r\n",
        "print(f\"\"\"\r\n",
        "---- Sistema de Medição de Tanque de Água ----\r\n",
        "\r\n",
        "#Informações do Tanque\r\n",
        "O volume total do tanque é de {v_tanque_m3} m³ e {v_tanque_l} Litros.\r\n",
        "\r\n",
        "#Informações da água\r\n",
        "O volume atual de água no tanque é de {v_agua_m3} m³ e {v_agua_l} Litros.\r\n",
        "\r\n",
        "#Preenchimento do tanque\r\n",
        "O tanque está com {preenchimento}% de sua capacidade ocupada.\r\n",
        "\r\n",
        "#Consumo médio total por dia\r\n",
        "O consumo da escola por dia é de {consumo_dia} Litros em média.\r\n",
        "\r\n",
        "#Dias sem reabastecimento\r\n",
        "O tanque pode funcionar até {dias_restantes} sem reabastecimento.\r\n",
        "\r\n",
        "#Lei de reabastecimento\r\n",
        "A escola {lei}.\r\n",
        "\"\"\")"
      ],
      "execution_count": 3,
      "outputs": [
        {
          "output_type": "stream",
          "text": [
            "Qual é a altura do tanque em metros: 5\n",
            "Qual é a a largura do tanque em metros: 4\n",
            "QUal é o comprimento do tanque em metros: 5\n",
            "Qual a altura da água em metros: 2\n",
            "Qual a quantidade de pessoas na escola: 1240\n",
            "\n",
            "---- Sistema de Medição de Tanque de Água ----\n",
            "\n",
            "#Informações do Tanque\n",
            "O volume total do tanque é de 100.0 m³ e 100000.0 Litros.\n",
            "\n",
            "#Informações da água\n",
            "O volume atual de água no tanque é de 40.0 m³ e 40000.0 Litros.\n",
            "\n",
            "#Preenchimento do tanque\n",
            "O tanque está com 40.0% de sua capacidade ocupada.\n",
            "\n",
            "#Consumo médio total por dia\n",
            "O consumo da escola por dia é de 2480 Litros em média.\n",
            "\n",
            "#Dias sem reabastecimento\n",
            "O tanque pode funcionar até 16 sem reabastecimento.\n",
            "\n",
            "#Lei de reabastecimento\n",
            "A escola não está dentro da lei.\n",
            "\n"
          ],
          "name": "stdout"
        }
      ]
    },
    {
      "cell_type": "markdown",
      "metadata": {
        "id": "rgmPSzbAo5R2"
      },
      "source": [
        "-----\n",
        "\n",
        "## **Análise de Dados Brasil**!\n",
        "***Um jeito diferente de aprender Análise de Dados!***\n",
        "\n",
        "[Youtube](https://www.youtube.com/channel/UC1TUZx4WcPgKkcXymqL1KYA) • [GitHub](https://github.com/adadosbrasil) • [Instagram](https://www.instagram.com/adadosbrasil/) • [Twitter](https://twitter.com/adadosbrasil/) • [LinkedIn](https://www.linkedin.com/company/adadosbrasil/)\n",
        "\n"
      ]
    }
  ]
}